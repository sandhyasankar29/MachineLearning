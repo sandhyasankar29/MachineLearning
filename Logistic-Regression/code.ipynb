{
 "cells": [
  {
   "cell_type": "markdown",
   "metadata": {},
   "source": [
    "Library Import"
   ]
  },
  {
   "cell_type": "code",
   "execution_count": 1,
   "metadata": {},
   "outputs": [],
   "source": [
    "import numpy as np\n",
    "import pandas as pd\n",
    "from numpy import log,dot,exp,shape\n",
    "import matplotlib.pyplot as plt\n",
    "import seaborn as sns\n",
    "from sklearn.model_selection import train_test_split\n",
    "sns.set()"
   ]
  },
  {
   "cell_type": "markdown",
   "metadata": {},
   "source": [
    "Logistic Regression"
   ]
  },
  {
   "cell_type": "code",
   "execution_count": 2,
   "metadata": {},
   "outputs": [],
   "source": [
    "class LogisticRegression:\n",
    "    def sigmoid(self,z):\n",
    "        return 1/(1+exp(-z))\n",
    "    def setDefault(self,X):\n",
    "        W=np.random.randn(1,X.shape[1])/np.sqrt(X.shape[0])\n",
    "        return W\n",
    "    def train(self,X,Y,X_Val,Y_Val,alpha=0.01,epoch=400):\n",
    "        W=self.setDefault(X)\n",
    "        train_loss=[]\n",
    "        val_loss=[]\n",
    "        epochs=[]\n",
    "        def updateWeight(A,W):\n",
    "            t=A-Y.T\n",
    "            m=X.shape[0]\n",
    "            t=np.reshape(t,m)\n",
    "            dW = np.dot(X.T,t)/m\n",
    "            W=W-(alpha*dW)\n",
    "            return W\n",
    "        def loss(Y,Y_Pred):\n",
    "            v=0\n",
    "            for i in range(len(Y)):\n",
    "                v+=Y[i]*log(Y_Pred[i])\n",
    "            t=-v/X.shape[0]\n",
    "            return t\n",
    "        for i in range(epoch):\n",
    "            z=W.dot(X.T)\n",
    "            A=self.sigmoid(z)\n",
    "            W=updateWeight(A,W)\n",
    "            epochs.append(i)\n",
    "            Y_Train_Pred=[]\n",
    "            Y_Val_Pred=[]\n",
    "            Z=(W.dot(X.T))\n",
    "            for z in Z[0]:\n",
    "                Y_Train_Pred.append(self.sigmoid(z))\n",
    "            Z=(W.dot(X_Val.T))\n",
    "            for z in Z[0]:\n",
    "                Y_Val_Pred.append(self.sigmoid(z))\n",
    "            train_loss.append(loss(Y,Y_Train_Pred))\n",
    "            val_loss.append(loss(Y_Val,Y_Val_Pred))    \n",
    "        self.W=W\n",
    "        return epochs,train_loss,val_loss,W\n",
    "    def predict(self,X,W):\n",
    "        Z=(W.dot(X.T))\n",
    "        y=[]\n",
    "        for z in Z[0]:\n",
    "            y.append(self.sigmoid(z))\n",
    "        Y_Pred=[]\n",
    "        for i in y:\n",
    "            if i>0.5:\n",
    "                Y_Pred.append(1)\n",
    "            else:\n",
    "                Y_Pred.append(0)\n",
    "        return Y_Pred"
   ]
  },
  {
   "cell_type": "markdown",
   "metadata": {},
   "source": [
    "F1 Score, Recall, Accuracy, Precision"
   ]
  },
  {
   "cell_type": "code",
   "execution_count": 3,
   "metadata": {},
   "outputs": [],
   "source": [
    "def F1_Score(Y,Y_Pred):\n",
    "    TP,TN,FP,FN = 0,0,0,0\n",
    "    for i in range(len(Y)):\n",
    "        if Y[i]==1 and Y_Pred[i]==1:\n",
    "            TP+=1\n",
    "        elif Y[i]==1 and Y_Pred[i]==0:\n",
    "            FN+=1\n",
    "        elif Y[i]==0 and Y_Pred[i]==1:\n",
    "            FP+=1\n",
    "        elif Y[i]==0 and Y_Pred[i]==0:\n",
    "            TN+=1\n",
    "    precision = TP/(TP+FP)\n",
    "    recall = TP/(TP+FN)\n",
    "    accuracy=(TP+TN)/(TP+FP+FN+TN)\n",
    "    f1_score = 2*precision*recall/(precision+recall)\n",
    "    return accuracy,precision,recall,f1_score"
   ]
  },
  {
   "cell_type": "markdown",
   "metadata": {},
   "source": [
    "Dataset Import"
   ]
  },
  {
   "cell_type": "code",
   "execution_count": 4,
   "metadata": {},
   "outputs": [],
   "source": [
    "data = pd.read_csv('Datasets/LogisticRegression/Pumpkin_Seeds_Dataset_1.csv')"
   ]
  },
  {
   "cell_type": "code",
   "execution_count": 5,
   "metadata": {},
   "outputs": [
    {
     "data": {
      "text/html": [
       "<div>\n",
       "<style scoped>\n",
       "    .dataframe tbody tr th:only-of-type {\n",
       "        vertical-align: middle;\n",
       "    }\n",
       "\n",
       "    .dataframe tbody tr th {\n",
       "        vertical-align: top;\n",
       "    }\n",
       "\n",
       "    .dataframe thead th {\n",
       "        text-align: right;\n",
       "    }\n",
       "</style>\n",
       "<table border=\"1\" class=\"dataframe\">\n",
       "  <thead>\n",
       "    <tr style=\"text-align: right;\">\n",
       "      <th></th>\n",
       "      <th>Area</th>\n",
       "      <th>Perimeter</th>\n",
       "      <th>Major_Axis_Length</th>\n",
       "      <th>Minor_Axis_Length</th>\n",
       "      <th>Convex_Area</th>\n",
       "      <th>Equiv_Diameter</th>\n",
       "      <th>Eccentricity</th>\n",
       "      <th>Solidity</th>\n",
       "      <th>Extent</th>\n",
       "      <th>Roundness</th>\n",
       "      <th>Aspect_Ration</th>\n",
       "      <th>Compactness</th>\n",
       "      <th>Class</th>\n",
       "    </tr>\n",
       "  </thead>\n",
       "  <tbody>\n",
       "    <tr>\n",
       "      <th>0</th>\n",
       "      <td>56276</td>\n",
       "      <td>888.242</td>\n",
       "      <td>326.1485</td>\n",
       "      <td>220.2388</td>\n",
       "      <td>56831</td>\n",
       "      <td>267.6805</td>\n",
       "      <td>0.7376</td>\n",
       "      <td>0.9902</td>\n",
       "      <td>0.7453</td>\n",
       "      <td>0.8963</td>\n",
       "      <td>1.4809</td>\n",
       "      <td>0.8207</td>\n",
       "      <td>Çerçevelik</td>\n",
       "    </tr>\n",
       "    <tr>\n",
       "      <th>1</th>\n",
       "      <td>76631</td>\n",
       "      <td>1068.146</td>\n",
       "      <td>417.1932</td>\n",
       "      <td>234.2289</td>\n",
       "      <td>77280</td>\n",
       "      <td>312.3614</td>\n",
       "      <td>0.8275</td>\n",
       "      <td>0.9916</td>\n",
       "      <td>0.7151</td>\n",
       "      <td>0.8440</td>\n",
       "      <td>1.7811</td>\n",
       "      <td>0.7487</td>\n",
       "      <td>Çerçevelik</td>\n",
       "    </tr>\n",
       "    <tr>\n",
       "      <th>2</th>\n",
       "      <td>71623</td>\n",
       "      <td>1082.987</td>\n",
       "      <td>435.8328</td>\n",
       "      <td>211.0457</td>\n",
       "      <td>72663</td>\n",
       "      <td>301.9822</td>\n",
       "      <td>0.8749</td>\n",
       "      <td>0.9857</td>\n",
       "      <td>0.7400</td>\n",
       "      <td>0.7674</td>\n",
       "      <td>2.0651</td>\n",
       "      <td>0.6929</td>\n",
       "      <td>Çerçevelik</td>\n",
       "    </tr>\n",
       "    <tr>\n",
       "      <th>3</th>\n",
       "      <td>66458</td>\n",
       "      <td>992.051</td>\n",
       "      <td>381.5638</td>\n",
       "      <td>222.5322</td>\n",
       "      <td>67118</td>\n",
       "      <td>290.8899</td>\n",
       "      <td>0.8123</td>\n",
       "      <td>0.9902</td>\n",
       "      <td>0.7396</td>\n",
       "      <td>0.8486</td>\n",
       "      <td>1.7146</td>\n",
       "      <td>0.7624</td>\n",
       "      <td>Çerçevelik</td>\n",
       "    </tr>\n",
       "    <tr>\n",
       "      <th>4</th>\n",
       "      <td>66107</td>\n",
       "      <td>998.146</td>\n",
       "      <td>383.8883</td>\n",
       "      <td>220.4545</td>\n",
       "      <td>67117</td>\n",
       "      <td>290.1207</td>\n",
       "      <td>0.8187</td>\n",
       "      <td>0.9850</td>\n",
       "      <td>0.6752</td>\n",
       "      <td>0.8338</td>\n",
       "      <td>1.7413</td>\n",
       "      <td>0.7557</td>\n",
       "      <td>Çerçevelik</td>\n",
       "    </tr>\n",
       "  </tbody>\n",
       "</table>\n",
       "</div>"
      ],
      "text/plain": [
       "    Area  Perimeter  Major_Axis_Length  Minor_Axis_Length  Convex_Area  \\\n",
       "0  56276    888.242           326.1485           220.2388        56831   \n",
       "1  76631   1068.146           417.1932           234.2289        77280   \n",
       "2  71623   1082.987           435.8328           211.0457        72663   \n",
       "3  66458    992.051           381.5638           222.5322        67118   \n",
       "4  66107    998.146           383.8883           220.4545        67117   \n",
       "\n",
       "   Equiv_Diameter  Eccentricity  Solidity  Extent  Roundness  Aspect_Ration  \\\n",
       "0        267.6805        0.7376    0.9902  0.7453     0.8963         1.4809   \n",
       "1        312.3614        0.8275    0.9916  0.7151     0.8440         1.7811   \n",
       "2        301.9822        0.8749    0.9857  0.7400     0.7674         2.0651   \n",
       "3        290.8899        0.8123    0.9902  0.7396     0.8486         1.7146   \n",
       "4        290.1207        0.8187    0.9850  0.6752     0.8338         1.7413   \n",
       "\n",
       "   Compactness       Class  \n",
       "0       0.8207  Çerçevelik  \n",
       "1       0.7487  Çerçevelik  \n",
       "2       0.6929  Çerçevelik  \n",
       "3       0.7624  Çerçevelik  \n",
       "4       0.7557  Çerçevelik  "
      ]
     },
     "execution_count": 5,
     "metadata": {},
     "output_type": "execute_result"
    }
   ],
   "source": [
    "data.head()"
   ]
  },
  {
   "cell_type": "markdown",
   "metadata": {},
   "source": [
    "Data Pre-Processing"
   ]
  },
  {
   "cell_type": "code",
   "execution_count": 6,
   "metadata": {},
   "outputs": [],
   "source": [
    "data['Class']=pd.factorize(data.Class)[0]"
   ]
  },
  {
   "cell_type": "code",
   "execution_count": 7,
   "metadata": {},
   "outputs": [
    {
     "data": {
      "text/plain": [
       "Class\n",
       "0    1300\n",
       "1    1200\n",
       "Name: count, dtype: int64"
      ]
     },
     "execution_count": 7,
     "metadata": {},
     "output_type": "execute_result"
    }
   ],
   "source": [
    "data['Class'].value_counts()"
   ]
  },
  {
   "cell_type": "markdown",
   "metadata": {},
   "source": [
    "Normalizing to avoid overflow"
   ]
  },
  {
   "cell_type": "code",
   "execution_count": 8,
   "metadata": {},
   "outputs": [],
   "source": [
    "def normalize(X):\n",
    "    for column in X:\n",
    "        mean=np.mean(X[column])\n",
    "        std=np.std(X[column])\n",
    "        X[column]=(X[column]-mean)/std\n",
    "    return X"
   ]
  },
  {
   "cell_type": "markdown",
   "metadata": {},
   "source": [
    "Randomizing the sample"
   ]
  },
  {
   "cell_type": "code",
   "execution_count": 9,
   "metadata": {},
   "outputs": [],
   "source": [
    "data=data.sample(frac=1)"
   ]
  },
  {
   "cell_type": "code",
   "execution_count": 10,
   "metadata": {},
   "outputs": [
    {
     "data": {
      "text/plain": [
       "(2500, 13)"
      ]
     },
     "execution_count": 10,
     "metadata": {},
     "output_type": "execute_result"
    }
   ],
   "source": [
    "data.shape"
   ]
  },
  {
   "cell_type": "code",
   "execution_count": 11,
   "metadata": {},
   "outputs": [],
   "source": [
    "x=data.iloc[:,:12]\n",
    "y=data.iloc[:,12]"
   ]
  },
  {
   "cell_type": "code",
   "execution_count": 12,
   "metadata": {},
   "outputs": [],
   "source": [
    "x=normalize(x)"
   ]
  },
  {
   "cell_type": "markdown",
   "metadata": {},
   "source": [
    "Train Test Validation Split"
   ]
  },
  {
   "cell_type": "code",
   "execution_count": 13,
   "metadata": {},
   "outputs": [],
   "source": [
    "X_Train,X_Test,Y_Train,Y_Test=train_test_split(x,y,test_size=0.2,random_state=1)\n",
    "X_Train,X_Val,Y_Train,Y_Val=train_test_split(X_Train,Y_Train,test_size=0.375,random_state=1)"
   ]
  },
  {
   "cell_type": "code",
   "execution_count": 14,
   "metadata": {},
   "outputs": [
    {
     "name": "stdout",
     "output_type": "stream",
     "text": [
      "(1250, 12)\n",
      "(500, 12)\n",
      "(750, 12)\n",
      "(1250,)\n",
      "(500,)\n",
      "(750,)\n"
     ]
    }
   ],
   "source": [
    "print(X_Train.shape)\n",
    "print(X_Test.shape)\n",
    "print(X_Val.shape)\n",
    "print(Y_Train.shape)\n",
    "print(Y_Test.shape)\n",
    "print(Y_Val.shape)"
   ]
  },
  {
   "cell_type": "markdown",
   "metadata": {},
   "source": [
    "Verifying if the dataset is balanced"
   ]
  },
  {
   "cell_type": "code",
   "execution_count": 15,
   "metadata": {},
   "outputs": [
    {
     "name": "stdout",
     "output_type": "stream",
     "text": [
      "Class\n",
      "0    638\n",
      "1    612\n",
      "Name: count, dtype: int64\n",
      "Class\n",
      "0    273\n",
      "1    227\n",
      "Name: count, dtype: int64\n",
      "Class\n",
      "0    389\n",
      "1    361\n",
      "Name: count, dtype: int64\n"
     ]
    }
   ],
   "source": [
    "print(Y_Train.value_counts())\n",
    "print(Y_Test.value_counts())\n",
    "print(Y_Val.value_counts())"
   ]
  },
  {
   "cell_type": "code",
   "execution_count": 16,
   "metadata": {},
   "outputs": [],
   "source": [
    "X_Train=X_Train.to_numpy()\n",
    "X_Test=X_Test.to_numpy()\n",
    "X_Val=X_Val.to_numpy()\n",
    "Y_Train=Y_Train.to_numpy()\n",
    "Y_Test=Y_Test.to_numpy()\n",
    "Y_Val=Y_Val.to_numpy()"
   ]
  },
  {
   "cell_type": "markdown",
   "metadata": {},
   "source": [
    "Model Training"
   ]
  },
  {
   "cell_type": "code",
   "execution_count": 17,
   "metadata": {},
   "outputs": [],
   "source": [
    "model=LogisticRegression()"
   ]
  },
  {
   "cell_type": "code",
   "execution_count": 18,
   "metadata": {},
   "outputs": [],
   "source": [
    "epoch,train_loss,val_loss,W=model.train(X_Train,Y_Train,X_Val,Y_Val,alpha=0.1,epoch=400)"
   ]
  },
  {
   "cell_type": "code",
   "execution_count": 19,
   "metadata": {},
   "outputs": [
    {
     "data": {
      "image/png": "[encoded data removed]",
      "text/plain": [
       "<Figure size 640x480 with 1 Axes>"
      ]
     },
     "metadata": {},
     "output_type": "display_data"
    }
   ],
   "source": [
    "plt.plot(epoch,train_loss,label='Training Loss')\n",
    "plt.plot(epoch,val_loss,label='Validation Loss')\n",
    "plt.title('Training and Validation Loss')\n",
    "plt.xlabel('Epochs')\n",
    "plt.ylabel('Loss')\n",
    "plt.legend(loc='best')\n",
    "plt.show()"
   ]
  },
  {
   "cell_type": "code",
   "execution_count": 20,
   "metadata": {},
   "outputs": [],
   "source": [
    "Y_Test_Pred=model.predict(X_Test,W)\n",
    "Y_Train_Pred=model.predict(X_Train,W)"
   ]
  },
  {
   "cell_type": "code",
   "execution_count": 21,
   "metadata": {},
   "outputs": [],
   "source": [
    "accuracy_train,precision_train,recall_train,f1_score_train=F1_Score(Y_Train_Pred,Y_Train)\n",
    "accuracy_test,precision_test,recall_test,f1_score_test=F1_Score(Y_Test_Pred,Y_Test)"
   ]
  },
  {
   "cell_type": "code",
   "execution_count": 22,
   "metadata": {},
   "outputs": [
    {
     "name": "stdout",
     "output_type": "stream",
     "text": [
      "Train Accuracy:  0.8672\n",
      "Train Precision:  0.8513071895424836\n",
      "Train Recall:  0.8741610738255033\n",
      "Train F1 Score:  0.8625827814569537\n"
     ]
    }
   ],
   "source": [
    "print(\"Train Accuracy: \",accuracy_train)\n",
    "print(\"Train Precision: \",precision_train)\n",
    "print(\"Train Recall: \",recall_train)\n",
    "print(\"Train F1 Score: \",f1_score_train)"
   ]
  },
  {
   "cell_type": "code",
   "execution_count": 23,
   "metadata": {},
   "outputs": [
    {
     "name": "stdout",
     "output_type": "stream",
     "text": [
      "Test Accuracy:  0.874\n",
      "Test Precision:  0.8590308370044053\n",
      "Test Recall:  0.8628318584070797\n",
      "Test F1 Score:  0.8609271523178808\n"
     ]
    }
   ],
   "source": [
    "print(\"Test Accuracy: \",accuracy_test)\n",
    "print(\"Test Precision: \",precision_test)\n",
    "print(\"Test Recall: \",recall_test)\n",
    "print(\"Test F1 Score: \",f1_score_test)"
   ]
  },
  {
   "cell_type": "code",
   "execution_count": null,
   "metadata": {},
   "outputs": [],
   "source": []
  }
 ],
 "metadata": {
  "kernelspec": {
   "display_name": "Python 3",
   "language": "python",
   "name": "python3"
  },
  "language_info": {
   "codemirror_mode": {
    "name": "ipython",
    "version": 3
   },
   "file_extension": ".py",
   "mimetype": "text/x-python",
   "name": "python",
   "nbconvert_exporter": "python",
   "pygments_lexer": "ipython3",
   "version": "3.9.6"
  },
  "orig_nbformat": 4
 },
 "nbformat": 4,
 "nbformat_minor": 2
}
